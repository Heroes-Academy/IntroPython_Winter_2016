{
 "cells": [
  {
   "cell_type": "markdown",
   "metadata": {},
   "source": [
    "## Welcome to the Jupyter Notebook for Week 2\n",
    "\n",
    "In the following cells, you will find the exercises you should complete. \n",
    "\n",
    "Doing them in jupyter is optional.  There are also files which you can code in and run. "
   ]
  },
  {
   "cell_type": "markdown",
   "metadata": {},
   "source": [
    "### Exercise 1: Simple Formulas"
   ]
  },
  {
   "cell_type": "code",
   "execution_count": 4,
   "metadata": {
    "collapsed": true
   },
   "outputs": [],
   "source": [
    "# this is an import for the pi number\n",
    "# it is used for your questions below\n",
    "from math import pi"
   ]
  },
  {
   "cell_type": "markdown",
   "metadata": {},
   "source": [
    "I will provide the equations in the comments and you must\n",
    "write the code that reflects the equations.\n",
    "\n",
    "I will also specify which variable you should input.\n",
    "You should write a message indicating what the person is inputting.\n",
    "\n",
    "I have done the first one for you."
   ]
  },
  {
   "cell_type": "code",
   "execution_count": 5,
   "metadata": {
    "collapsed": false
   },
   "outputs": [
    {
     "name": "stdout",
     "output_type": "stream",
     "text": [
      "I will calculate the area of a square\n",
      "Please tell me the side length: 10\n",
      "The area of a the square with side_length 10.0 is 100.0\n"
     ]
    }
   ],
   "source": [
    "### Area of a Square\n",
    "# equation: area = side_length ** 2\n",
    "# input the side length\n",
    "print(\"I will calculate the area of a square\")\n",
    "side_length = float(input(\"Please tell me the side length: \"))\n",
    "area = side_length ** 2\n",
    "print(\"The area of a the square with side_length {} is {}\".format(side_length, area))"
   ]
  },
  {
   "cell_type": "code",
   "execution_count": 6,
   "metadata": {
    "collapsed": true
   },
   "outputs": [],
   "source": [
    "### Area of a Circle\n",
    "# equation: area = pi * radius**2\n",
    "# input the radius"
   ]
  },
  {
   "cell_type": "code",
   "execution_count": 7,
   "metadata": {
    "collapsed": true
   },
   "outputs": [],
   "source": [
    "### Volume of a Sphere\n",
    "# equation: area = 4/3 * pi * radius**3\n",
    "# input the radius"
   ]
  },
  {
   "cell_type": "code",
   "execution_count": 8,
   "metadata": {
    "collapsed": true
   },
   "outputs": [],
   "source": [
    "### Weight on Pluto\n",
    "# explanation:\n",
    "### if we know how much less gravity a planet has\n",
    "### then we can calculate our weight on that planet\n",
    "### pluto has 5% of our gravity, which leads to the equation\n",
    "# equation: weight_on_pluto = 0.05 * weight_on_earth\n",
    "# input: your weight on earth\n",
    "\n",
    "\n",
    "\n",
    "### Bonus\n",
    "## Given the weight that was input\n",
    "## Calculate the weights for the other planets.\n",
    "# Mercury has 38% of our gravity\n",
    "# Venus has 90%\n",
    "# The Moon has 16%\n",
    "# Mars has 38%\n",
    "# Jupiter has 236%\n",
    "# Saturn has 108%\n",
    "# Uranus has 80%\n",
    "# Nepture has 112%"
   ]
  },
  {
   "cell_type": "markdown",
   "metadata": {},
   "source": [
    "### Exercise 2: Harder Formulas"
   ]
  },
  {
   "cell_type": "markdown",
   "metadata": {},
   "source": [
    "I will provide a description of a problem.\n",
    "It is your job to convert that description into a formula.\n",
    "Then, you must code that formula into an equation and code.\n",
    "\n",
    "Each of the problems will require an input that I specify.\n",
    "Write an intro print statement explaining the situation for the problem.\n",
    "Then write an input statement to get the relevant information.\n",
    "Finally, use your equation to calculate the answer.\n",
    "Then, print out the answer in a nice way.\n",
    "\n",
    "I have completed the first one as an example."
   ]
  },
  {
   "cell_type": "code",
   "execution_count": 9,
   "metadata": {
    "collapsed": false
   },
   "outputs": [
    {
     "name": "stdout",
     "output_type": "stream",
     "text": [
      "Every month, the number of rabbits doubles.\n",
      "          If you tell me how many months you want to breed the rabbits,\n",
      "          then I will calculate how much money it will cost in food\n",
      "Number of months: 10\n",
      "It will cost you 71680 dollars to feed your rabbits that month\n"
     ]
    }
   ],
   "source": [
    "### Luke's Rabbits\n",
    "# Luke loves his rabbits.\n",
    "# However, they are breeding like crazy.\n",
    "# Currently, he has 7 rabbits. Every month, they double.  So next month he will have 14.\n",
    "# Feeding each rabbit costs $10 dollars a month.\n",
    "#\n",
    "# The input should be how many months Luke wants to breed his rabbits.\n",
    "# The output should be how much month it would cost to feed all of those rabbits that month.\n",
    "\n",
    "print(\"\"\"Every month, the number of rabbits doubles.\n",
    "          If you tell me how many months you want to breed the rabbits,\n",
    "          then I will calculate how much money it will cost in food\"\"\")\n",
    "num_months = int(input(\"Number of months: \"))\n",
    "# since it doubles every month, then 7 * 2  is the first month, 7 * 2 * 2 is the second\n",
    "# so, it is 7 * 2 ** num_months\n",
    "num_rabbits = 7 * 2 ** num_months\n",
    "food_cost = 10*num_rabbits\n",
    "print(\"It will cost you {} dollars to feed your rabbits that month\".format(food_cost))"
   ]
  },
  {
   "cell_type": "code",
   "execution_count": 10,
   "metadata": {
    "collapsed": true
   },
   "outputs": [],
   "source": [
    "### Bill's Money\n",
    "# Bill wants to know how much money he can earn from saving.\n",
    "# He has an investment account that gives him 10% every month\n",
    "# He wants to know how much month he will have after 1, 3, and 6 months\n",
    "#\n",
    "# The input should be how much money he wants to invest.\n",
    "# The output should be the numbers for each of the 3 lengths of time."
   ]
  },
  {
   "cell_type": "code",
   "execution_count": 11,
   "metadata": {
    "collapsed": true
   },
   "outputs": [],
   "source": [
    "### Sara's Army\n",
    "# Sara wants to hire an army.\n",
    "# It will cost her $500 per soldier.\n",
    "#\n",
    "# The input should be the amount of money that Sara has\n",
    "# The output should be the number of soldiers she can get.\n",
    "#\n",
    "# Note that the amount of money she has may not be exactly the amount of a soldier\n",
    "# For example, if she has $700 dollars, she can only get 1 soldier\n",
    "# So, you will have to do floor division.\n",
    "# See the slides if you forgot how"
   ]
  },
  {
   "cell_type": "markdown",
   "metadata": {},
   "source": [
    "### Exercise 3: Built-in Function Practice"
   ]
  },
  {
   "cell_type": "markdown",
   "metadata": {},
   "source": [
    "We have been using the following built-in functions.\n",
    "\n",
    "Practice using them with the following code."
   ]
  },
  {
   "cell_type": "code",
   "execution_count": 3,
   "metadata": {
    "collapsed": false
   },
   "outputs": [
    {
     "name": "stdout",
     "output_type": "stream",
     "text": [
      "\n",
      "    ASCII ART is pretty cool =D\n",
      "              ________\n",
      "          _,.-Y  |  |  Y-._\n",
      "      .-~\"   ||  |  |  |   \"-.\n",
      "      I\" \"\"==\"|\" !\"\"! \"|\"[]\"\"|     _____\n",
      "      L__  [] |..------|:   _[----I\" .-{\"-.\n",
      "     I___|  ..| l______|l_ [__L]_[I_/r(=}=-P\n",
      "    [L______L_[________]______j~  '-=c_]/=-^\n",
      "     \\_I_j.--.\\==I|I==_/.--L_]\n",
      "       [_((==)[`-----\"](==)j\n",
      "          I--I\"~~'''~~\"I--I\n",
      "          |[]|         |[]|\n",
      "          l__j         l__j\n",
      "          |!!|         |!!|\n",
      "          |..|         |..|\n",
      "          ([])         ([])\n",
      "          ]--[         ]--[\n",
      "          [_L]         [_L]\n",
      "         /|..|\\       /|..|\\\n",
      "        `=}--{='     `=}--{='\n",
      "       .-^--r-^-.   .-^--r-^-.\n",
      "~~~~~~~~~~~~~~~~~~~~~~~~~~~~~~~~~~~~~~~~~\n",
      "   \n"
     ]
    }
   ],
   "source": [
    "\n",
    "\n",
    "#len\n",
    "## Calculate the length of the following variables and print the length\n",
    "x = \"Python is a pretty cool language\"\n",
    "y = \"What is the length of this string?\"\n",
    "z = \"\"\"\n",
    "    ASCII ART is pretty cool =D\n",
    "              ________\n",
    "          _,.-Y  |  |  Y-._\n",
    "      .-~\"   ||  |  |  |   \"-.\n",
    "      I\" \"\"==\"|\" !\"\"! \"|\"[]\"\"|     _____\n",
    "      L__  [] |..------|:   _[----I\" .-{\"-.\n",
    "     I___|  ..| l______|l_ [__L]_[I_/r(=}=-P\n",
    "    [L______L_[________]______j~  '-=c_]/=-^\n",
    "     \\_I_j.--.\\==I|I==_/.--L_]\n",
    "       [_((==)[`-----\"](==)j\n",
    "          I--I\"~~'''~~\"I--I\n",
    "          |[]|         |[]|\n",
    "          l__j         l__j\n",
    "          |!!|         |!!|\n",
    "          |..|         |..|\n",
    "          ([])         ([])\n",
    "          ]--[         ]--[\n",
    "          [_L]         [_L]\n",
    "         /|..|\\       /|..|\\\\\n",
    "        `=}--{='     `=}--{='\n",
    "       .-^--r-^-.   .-^--r-^-.\n",
    "~~~~~~~~~~~~~~~~~~~~~~~~~~~~~~~~~~~~~~~~~\n",
    "   \"\"\"\n",
    "print(z)"
   ]
  },
  {
   "cell_type": "code",
   "execution_count": 2,
   "metadata": {
    "collapsed": true
   },
   "outputs": [],
   "source": [
    "#print\n",
    "## use print to make your own ascii art!\n",
    "\n",
    "\n",
    "# input and int\n",
    "## use input and ask the user for a whole number between 1 and 10\n",
    "## convert that number to an int\n",
    "## multiply one of the above ascii arts by the number and print it"
   ]
  },
  {
   "cell_type": "markdown",
   "metadata": {},
   "source": [
    "### Exercise 4: If Statement Practice"
   ]
  },
  {
   "cell_type": "code",
   "execution_count": null,
   "metadata": {
    "collapsed": true
   },
   "outputs": [],
   "source": [
    "#### if and only if\n",
    "# write an if statement that checks if a variable representing temp is higher than 90\n",
    "# if it is higher than 90, print a message about it being hot"
   ]
  },
  {
   "cell_type": "code",
   "execution_count": null,
   "metadata": {
    "collapsed": true
   },
   "outputs": [],
   "source": [
    "#### if and an else\n",
    "# write an if statement that checks if a variable representing temp is lower than 40\n",
    "# if it is, print a message about it being cold\n",
    "# if it isn't, (aka, using an 'else'), then print a message about it not being cold"
   ]
  },
  {
   "cell_type": "code",
   "execution_count": null,
   "metadata": {
    "collapsed": true
   },
   "outputs": [],
   "source": [
    "#### if, elif, and else\n",
    "# combine the above two\n",
    "# test if it is above 90 with the if, if it is, print the message from the first part\n",
    "# test if it is below 40 with an elif, if it is, print the message from the second part\n",
    "# if both of those ifs are False, then the else will be used\n",
    "# so, if the else is used, then print out a message about it not being too hot or cold"
   ]
  },
  {
   "cell_type": "markdown",
   "metadata": {},
   "source": [
    "### Exercise 5: If Statement Practice w/ Inputs"
   ]
  },
  {
   "cell_type": "markdown",
   "metadata": {},
   "source": [
    "The following exercises will combine the input function and if statements.\n",
    "\n",
    "The combination fo these two features of Python is really powerful.\n",
    "I will provide extra directions for each of the exercises.\n",
    "I have also completed the first one."
   ]
  },
  {
   "cell_type": "code",
   "execution_count": 13,
   "metadata": {
    "collapsed": false
   },
   "outputs": [
    {
     "name": "stdout",
     "output_type": "stream",
     "text": [
      "Welcome to my menu!\n",
      "Enter the number of the thing you want to do.\n",
      "1. See cool ascii art\n",
      "2. Hear a joke\n",
      "3. Leave the program\n",
      "Please your choice (1,2, or 3): 2\n",
      "Why can't you trust atoms?\n",
      "Because they make up everything!\n"
     ]
    }
   ],
   "source": [
    "### A Menu\n",
    "# You can use input and if statements to create a menu for users\n",
    "# The only thing that is required is a consistency between what you tell\n",
    "# your users to input and what you check for with the if statement.\n",
    "\n",
    "print(\"Welcome to my menu!\")\n",
    "print(\"Enter the number of the thing you want to do.\")\n",
    "print(\"1. See cool ascii art\")\n",
    "print(\"2. Hear a joke\")\n",
    "print(\"3. Leave the program\")\n",
    "their_choice = int(input(\"Please your choice (1,2, or 3): \"))\n",
    "if their_choice == 1:\n",
    "    print(\"\"\" Here you go!\n",
    "            ;     /        ,--.\n",
    "           [\"]   [\"]  ,<  |__**|\n",
    "          /[_]\\  [~]\\/    |//  |\n",
    "           ] [   OOO      /o|__|    \"\"\")\n",
    "elif their_choice == 2:\n",
    "    print(\"Why can't you trust atoms?\")\n",
    "    print(\"Because they make up everything!\")\n",
    "elif their_choice == 3:\n",
    "    print(\"Okay.  Bye!\")\n",
    "else:\n",
    "    print(\"I have no idea what you type.. but it wasn't 1, 2, or 3\")"
   ]
  },
  {
   "cell_type": "code",
   "execution_count": 15,
   "metadata": {
    "collapsed": true
   },
   "outputs": [],
   "source": [
    "### Password checker\n",
    "# Make a log in system\n",
    "# Ask the user for the password to log in\n",
    "# If it's the right password, then tell them it was successful!\n",
    "# If it's not the right password, give them a failure message."
   ]
  },
  {
   "cell_type": "code",
   "execution_count": 16,
   "metadata": {
    "collapsed": true
   },
   "outputs": [],
   "source": [
    "### Personalized Greeter\n",
    "# Ask the user for their name\n",
    "# Check if their name is your name\n",
    "# If it's you, then put a personalized message\n",
    "# You can use 'elif' and check if it is other names as well\n",
    "# You can put personalized messages for them too!\n",
    "# If it's not any of the names you check for, have a default message in the else"
   ]
  }
 ],
 "metadata": {
  "kernelspec": {
   "display_name": "Python 3",
   "language": "python",
   "name": "python3"
  },
  "language_info": {
   "codemirror_mode": {
    "name": "ipython",
    "version": 3
   },
   "file_extension": ".py",
   "mimetype": "text/x-python",
   "name": "python",
   "nbconvert_exporter": "python",
   "pygments_lexer": "ipython3",
   "version": "3.5.1"
  }
 },
 "nbformat": 4,
 "nbformat_minor": 0
}
